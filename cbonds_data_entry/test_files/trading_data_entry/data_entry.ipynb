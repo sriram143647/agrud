{
 "cells": [
  {
   "cell_type": "code",
   "execution_count": null,
   "metadata": {},
   "outputs": [],
   "source": [
    "import pandas as pd\n",
    "import numpy as np\n",
    "import json\n",
    "import mysql.connector\n",
    "import datetime\n",
    "import pytz"
   ]
  },
  {
   "cell_type": "code",
   "execution_count": null,
   "metadata": {},
   "outputs": [],
   "source": [
    "with open('daily_missing_isin_to_masterid_map.json', 'r') as f:\n",
    "    isinToMasterid = json.load(f)\n",
    "with open('col_to_indicator.json', 'r', encoding='utf-8') as f:\n",
    "    colToIndicator = json.load(f)"
   ]
  },
  {
   "cell_type": "code",
   "execution_count": null,
   "metadata": {},
   "outputs": [],
   "source": [
    "stock_exchange_priority = ('Frankfurt S.E.','Stuttgart Exchange','Berlin Exchange','Dusseldorf SE','FINRA TRACE','Cbonds Estimation','Luxembourg S.E','MiFID II Source 2 (APA, Post-trade reporting)','MiFID II Source 1 (APA, Post-trade reporting)','Hong Kong S.E.','SGX','US OTC Market','Other sources of prices','London S.E.','Euronext Paris','Taipei Exchange (OTC)','Nasdaq Dubai','Taipei Exchange (Trading System)')\n",
    "dateColumns = ('trade date','put/сall date','maturity date')\n",
    "close_price_priority = ['close price', 'indicative price', 'bid (at close)', 'ask (at close)']"
   ]
  },
  {
   "cell_type": "code",
   "execution_count": null,
   "metadata": {},
   "outputs": [],
   "source": [
    "publish_date = datetime.datetime.today().strftime('%Y-%m-%d')\n",
    "# publish_date = '2022-01-18'\n",
    "path = r'D:\\\\sriram\\\\agrud\\\\cbonds_data_entry\\\\test_files\\\\zip_files\\\\datafiles\\\\'+publish_date+'\\\\'\n",
    "try:\n",
    "    df = pd.read_excel(path+'tradings.xls')\n",
    "except:\n",
    "    df = pd.read_csv(path+'tradings.csv', sep=',', encoding='latin')\n",
    "publish_date = (datetime.datetime.strptime(publish_date, '%Y-%m-%d').date() - datetime.timedelta(days=1)).strftime(\"%Y-%m-%d\")\n",
    "df['ts date'] = publish_date\n",
    "df.columns = df.columns.str.strip().str.lower()"
   ]
  },
  {
   "cell_type": "code",
   "execution_count": null,
   "metadata": {},
   "outputs": [],
   "source": [
    "df[df['isin-code'] == 'XS1513739927']"
   ]
  },
  {
   "cell_type": "code",
   "execution_count": null,
   "metadata": {},
   "outputs": [],
   "source": [
    "df['master id'] = df['isin-code'].map(isinToMasterid)\n",
    "df = df[df['stock exchange (eng)'].isin(stock_exchange_priority)]\n",
    "df = df.dropna(subset=['master id'])"
   ]
  },
  {
   "cell_type": "code",
   "execution_count": null,
   "metadata": {},
   "outputs": [],
   "source": [
    "df['custom close price col'] = np.nan\n",
    "for col in close_price_priority :\n",
    "    if len(df.loc[df['custom close price col'].isna() & df[col].notna()]):\n",
    "        df.loc[df['custom close price col'].isna() & df[col].notna(), 'custom close price col'] = df.loc[df['custom close price col'].isna() & df[col].notna(), col]"
   ]
  },
  {
   "cell_type": "markdown",
   "metadata": {},
   "source": [
    "missing ISIN"
   ]
  },
  {
   "cell_type": "code",
   "execution_count": null,
   "metadata": {},
   "outputs": [],
   "source": [
    "# missing ISIN\n",
    "missing_isin = []\n",
    "for k in isinToMasterid :\n",
    "    if not df['isin-code'].isin([k]).any():\n",
    "        missing_isin.append(k)\n",
    "len(missing_isin)"
   ]
  },
  {
   "cell_type": "code",
   "execution_count": null,
   "metadata": {},
   "outputs": [],
   "source": [
    "preprocessedData = pd.DataFrame()\n",
    "issueData = []\n",
    "for by, groupedDf in df.groupby(by = ['master id', 'ts date']):\n",
    "    master_id = int(by[0])\n",
    "    ts_date = by[1]\n",
    "    for stock_exchange in stock_exchange_priority :\n",
    "        close_price_col = 'custom close price col'\n",
    "        stock_exchange_wise_df = groupedDf[groupedDf['stock exchange (eng)'] == stock_exchange]\n",
    "        if (len(stock_exchange_wise_df) > 0) and (stock_exchange_wise_df[close_price_col].notna().sum()):\n",
    "            preprocessedData = preprocessedData.append(stock_exchange_wise_df)\n",
    "            break\n",
    "    else:\n",
    "        preprocessedData = preprocessedData.append(groupedDf.iloc[0])\n",
    "        issueData.append([master_id, str(ts_date)])"
   ]
  },
  {
   "cell_type": "code",
   "execution_count": null,
   "metadata": {},
   "outputs": [],
   "source": [
    "close_price_col = 'custom close price col'\n",
    "preprocessedData.loc[preprocessedData['open price'].isna(), 'open price'] = preprocessedData.loc[preprocessedData['open price'].isna(), close_price_col]\n",
    "preprocessedData.loc[preprocessedData['maximum price'].isna(), 'maximum price'] = preprocessedData.loc[preprocessedData['maximum price'].isna(), close_price_col]\n",
    "preprocessedData.loc[preprocessedData['minimum price'].isna(), 'minimum price'] = preprocessedData.loc[preprocessedData['minimum price'].isna(), close_price_col]\n",
    "preprocessedData.loc[preprocessedData['close price'].isna(), 'close price'] = preprocessedData.loc[preprocessedData['close price'].isna(), close_price_col]"
   ]
  },
  {
   "cell_type": "code",
   "execution_count": null,
   "metadata": {},
   "outputs": [],
   "source": [
    "preprocessedData = preprocessedData.replace([np.NaN], ['NA'])\n",
    "preprocessedData = preprocessedData.replace([pd.NaT], ['NA'])"
   ]
  },
  {
   "cell_type": "code",
   "execution_count": null,
   "metadata": {},
   "outputs": [],
   "source": [
    "result = []\n",
    "for i, row in preprocessedData.iterrows():\n",
    "    row2 = row.to_dict()\n",
    "    masterId = row2['master id']\n",
    "    for k, v in row2.items():\n",
    "        if v == \"NA\":\n",
    "            continue\n",
    "        if k in colToIndicator:\n",
    "            try:\n",
    "                indicatorId = colToIndicator[k]\n",
    "                if type(v) == pd.Timestamp:\n",
    "                    json_data = None\n",
    "                    dataType = 2\n",
    "                    gmt = pytz.timezone(\"GMT\")\n",
    "                    value_data = gmt.localize(v).timestamp()\n",
    "                elif type(v) == float or type(v) == int or  v.isnumeric(): \n",
    "                    dataType = 0\n",
    "                    value_data = v\n",
    "                    json_data = None\n",
    "                elif v.isnumeric() == False:\n",
    "                    json_data = json.dumps({'TEXT':v})\n",
    "                    dataType = 3\n",
    "                    value_data = 0\n",
    "            except Exception as e:\n",
    "                print(k)\n",
    "                print(v)\n",
    "                print(e)\n",
    "            result.append([masterId,indicatorId,value_data,json_data,dataType,publish_date])"
   ]
  },
  {
   "cell_type": "code",
   "execution_count": null,
   "metadata": {},
   "outputs": [],
   "source": [
    "# insert query\n",
    "try:\n",
    "        db_conn = mysql.connector.connect(host='54.237.79.6',user='rentech_user',database = 'rentech_db',password='N)baegbgqeiheqfi3e9314jnEkekjb',auth_plugin='mysql_native_password')\n",
    "        cursor = db_conn.cursor()\n",
    "        sql = \"\"\"INSERT INTO `raw_data` (`id`, `master_id`, `indicator_id`, `value_data`, `json_data`, `data_type`, `ts_date`, `ts_hour`, `job_id`, `timestamp`) VALUES \n",
    "        (NULL, %s, %s, %s, %s, %s, %s, '0:0:0', 9, NOW()) ON DUPLICATE KEY UPDATE  \n",
    "        master_id = VALUES(master_id), indicator_id = VALUES(indicator_id), value_data = VALUES(value_data), json_data = VALUES(json_data),data_type = VALUES(data_type), ts_date = VALUES(ts_date) ,ts_hour = VALUES(ts_hour),\n",
    "        job_id = VALUES(job_id), batch_id = VALUES(batch_id);\"\"\"\n",
    "        cursor.executemany(sql, result)\n",
    "        print(f'{cursor.rowcount} rows inserted successfully')\n",
    "        db_conn.commit()\n",
    "except Exception as e:\n",
    "        print (\"Mysql Error:\", e)\n",
    "finally:\n",
    "        if(db_conn.is_connected()):\n",
    "                cursor.close()\n",
    "                db_conn.close()\n",
    "                print(\"MySQL connection is closed\")"
   ]
  },
  {
   "cell_type": "code",
   "execution_count": null,
   "metadata": {},
   "outputs": [],
   "source": []
  }
 ],
 "metadata": {
  "interpreter": {
   "hash": "c40bc86b65c221928a8dcb60bcd533d914928a478170fa7541d6a17a6588b245"
  },
  "kernelspec": {
   "display_name": "Python 3.9.5 64-bit",
   "language": "python",
   "name": "python3"
  },
  "language_info": {
   "codemirror_mode": {
    "name": "ipython",
    "version": 3
   },
   "file_extension": ".py",
   "mimetype": "text/x-python",
   "name": "python",
   "nbconvert_exporter": "python",
   "pygments_lexer": "ipython3",
   "version": "3.9.7"
  },
  "orig_nbformat": 4
 },
 "nbformat": 4,
 "nbformat_minor": 2
}
