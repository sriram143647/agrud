{
 "cells": [
  {
   "cell_type": "code",
   "execution_count": 1,
   "metadata": {},
   "outputs": [],
   "source": [
    "import pandas as pd"
   ]
  },
  {
   "cell_type": "code",
   "execution_count": 2,
   "metadata": {},
   "outputs": [],
   "source": [
    "df1 = pd.read_excel('Agrud Rentech Data Scraping.xlsx',sheet_name='Issuer ISIN & Master mapping', engine='openpyxl')\n",
    "df1 = df1.loc[129:,]\n",
    "df1 = df1[['Full issuer name (eng)','ISIN/Symbol']]"
   ]
  },
  {
   "cell_type": "code",
   "execution_count": 3,
   "metadata": {},
   "outputs": [],
   "source": [
    "df2 = pd.read_excel('Agrud Rentech Data Scraping.xlsx',sheet_name='Master ID_Mapping', engine='openpyxl')\n",
    "df2 = df2.rename(columns={'source id': 'ISIN/Symbol'})\n",
    "df2 = df2[['ISIN/Symbol','master id']]"
   ]
  },
  {
   "cell_type": "code",
   "execution_count": 4,
   "metadata": {},
   "outputs": [],
   "source": [
    "df = pd.merge(df1,df2,  left_on='ISIN/Symbol', right_on='ISIN/Symbol', how='left')\n",
    "df = df[['Full issuer name (eng)','master id']]\n",
    "df.reset_index(drop=True, inplace=True)\n",
    "# df.to_csv('issuer_to_masterid.csv',index = False,sep=';')"
   ]
  },
  {
   "cell_type": "markdown",
   "metadata": {},
   "source": [
    "new isin's"
   ]
  },
  {
   "cell_type": "code",
   "execution_count": 32,
   "metadata": {},
   "outputs": [],
   "source": [
    "df3 = pd.read_excel('New Bond ISINs.xlsx',sheet_name='ISINs', engine='openpyxl',nrows=14)"
   ]
  },
  {
   "cell_type": "code",
   "execution_count": 38,
   "metadata": {},
   "outputs": [],
   "source": [
    "df3 = df3.head(5)\n",
    "df3 = df3.rename(columns={'Full borrower / issuer name':'Full issuer name (eng)','master Bond':'master id'})"
   ]
  },
  {
   "cell_type": "code",
   "execution_count": 41,
   "metadata": {},
   "outputs": [],
   "source": [
    "df3 = df3[['Full issuer name (eng)','master id']]\n",
    "df3.reset_index(drop=True, inplace=True)\n",
    "df3.to_csv('new_issuer_to_masterid.csv',index = False,sep=';')"
   ]
  }
 ],
 "metadata": {
  "interpreter": {
   "hash": "c40bc86b65c221928a8dcb60bcd533d914928a478170fa7541d6a17a6588b245"
  },
  "kernelspec": {
   "display_name": "Python 3.9.7 64-bit",
   "language": "python",
   "name": "python3"
  },
  "language_info": {
   "codemirror_mode": {
    "name": "ipython",
    "version": 3
   },
   "file_extension": ".py",
   "mimetype": "text/x-python",
   "name": "python",
   "nbconvert_exporter": "python",
   "pygments_lexer": "ipython3",
   "version": "3.9.7"
  },
  "orig_nbformat": 4
 },
 "nbformat": 4,
 "nbformat_minor": 2
}
