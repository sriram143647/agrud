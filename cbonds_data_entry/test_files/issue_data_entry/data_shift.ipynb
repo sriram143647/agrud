{
 "cells": [
  {
   "cell_type": "code",
   "execution_count": 1,
   "metadata": {},
   "outputs": [],
   "source": [
    "import mysql.connector"
   ]
  },
  {
   "cell_type": "code",
   "execution_count": 2,
   "metadata": {},
   "outputs": [],
   "source": [
    "db_conn = mysql.connector.connect(host = \"34.69.145.125\", user = \"rentechuser\", password = \"Agdj8ekee9u04IIid\", database = \"rentech_db\")\n",
    "cursor = db_conn.cursor()\n",
    "sql = \"SELECT `url`, `url_hash`, `title`, `body`, `publish_date`, `images`, `news_type`, `master_id`, `job_id` FROM `news_raw_data_test`;\"\n",
    "cursor.execute(sql)\n",
    "resultset = cursor.fetchall()\n",
    "cursor.close()\n",
    "db_conn.close()"
   ]
  },
  {
   "cell_type": "code",
   "execution_count": 5,
   "metadata": {},
   "outputs": [
    {
     "name": "stdout",
     "output_type": "stream",
     "text": [
      "1010 New News are inserted into db\n",
      "Mysql Connection is closed\n"
     ]
    }
   ],
   "source": [
    "try:\n",
    "    db_conn = mysql.connector.connect(host = \"34.69.145.125\", user = \"rentechuser\", password = \"Agdj8ekee9u04IIid\", database = \"rentech_db\")\n",
    "    cursor = db_conn.cursor()\n",
    "    sql = \"INSERT IGNORE INTO `test` VALUES(NULL, %s, %s, %s, %s, %s, %s, %s, %s, %s, CURRENT_TIMESTAMP());\"\n",
    "    cursor.executemany(sql, resultset)\n",
    "    print(f'{cursor.rowcount} New News are inserted into db')\n",
    "    db_conn.commit()\n",
    "except Exception as e:\n",
    "    print(f'Mysql Error',e)\n",
    "finally:\n",
    "    if(db_conn.is_connected()):\n",
    "        cursor.close()\n",
    "        db_conn.close()\n",
    "        print('Mysql Connection is closed')"
   ]
  },
  {
   "cell_type": "code",
   "execution_count": 16,
   "metadata": {},
   "outputs": [],
   "source": [
    "# db_conn = mysql.connector.connect(host='54.237.79.6',database='rentech_db',user='rentech_user',password='N)baegbgqeiheqfi3e9314jnEkekjb',auth_plugin='mysql_native_password')\n",
    "# cursor = db_conn.cursor()\n",
    "# sql = \"SELECT raw_data.id, raw_data.master_id, raw_data.indicator_id FROM raw_data,raw_data_test WHERE (raw_data.master_id = raw_data_test.master_id AND raw_data.indicator_id = raw_data_test.indicator_id AND raw_data.ts_date = raw_data_test.ts_date);\"\n",
    "# cursor.execute(sql)\n",
    "# resultset = cursor.fetchall()\n",
    "# sql2 = \"DELETE FROM raw_data WHERE id  %s AND master_id IN %s AND indicator_id IN %s;\"\n",
    "# cursor.executemany(sql2,resultset)\n",
    "# cursor.close()\n",
    "# db_conn.close()"
   ]
  },
  {
   "cell_type": "code",
   "execution_count": 17,
   "metadata": {},
   "outputs": [],
   "source": [
    "# db_conn = mysql.connector.connect(host='54.237.79.6',database='rentech_db',user='rentech_user',password='N)baegbgqeiheqfi3e9314jnEkekjb',auth_plugin='mysql_native_password')\n",
    "# cursor = db_conn.cursor()\n",
    "# sql = \"DELETE FROM raw_data WHERE id = %s AND master_id = %s AND indicator_id = %s;\"\n",
    "# cursor.executemany(sql,resultset)\n",
    "# cursor.close()\n",
    "# db_conn.close()"
   ]
  },
  {
   "cell_type": "code",
   "execution_count": 18,
   "metadata": {},
   "outputs": [
    {
     "name": "stdout",
     "output_type": "stream",
     "text": [
      "MySQL connection is closed\n"
     ]
    }
   ],
   "source": [
    "db_conn = mysql.connector.connect(host='54.237.79.6',database='rentech_db',user='rentech_user',password='N)baegbgqeiheqfi3e9314jnEkekjb',auth_plugin='mysql_native_password')\n",
    "cursor = db_conn.cursor()\n",
    "sql = \"INSERT IGNORE INTO `raw_data` (`id`, `master_id`, `indicator_id`, `value_data`, `json_data`, `data_type`, `ts_date`, `ts_hour`, `job_id`, `batch_id`, `timestamp`) VALUES (NULL, %s, %s, %s, %s, %s, %s, %s, %s, %s, NOW());\"\n",
    "cursor.executemany(sql,resultset)\n",
    "db_conn.commit()\n",
    "cursor.close()\n",
    "db_conn.close()"
   ]
  },
  {
   "cell_type": "code",
   "execution_count": null,
   "metadata": {},
   "outputs": [],
   "source": [
    "try:\n",
    "    db_conn = mysql.connector.connect(host='54.237.79.6',database='rentech_db',user='rentech_user',password='N)baegbgqeiheqfi3e9314jnEkekjb',auth_plugin='mysql_native_password')\n",
    "    cursor = db_conn.cursor()\n",
    "    sql = \"\"\"INSERT INTO `raw_data` (`master_id`, `indicator_id`, `value_data`, `json_data`, `data_type`, `ts_date`, `ts_hour`, `job_id`, `batch_id`) VALUES \n",
    "    (%s, %s, %s, %s, %s, %s, %s, %s, %s)\n",
    "    ON DUPLICATE KEY UPDATE  master_id = VALUES(master_id), indicator_id = VALUES(indicator_id), value_data = VALUES(value_data),\n",
    "    json_data = VALUES(json_data),data_type = VALUES(data_type), ts_date = VALUES(ts_date) ,ts_hour = VALUES(ts_hour) ,\n",
    "    job_id = VALUES(job_id), batch_id = VALUES(batch_id);\"\"\"\n",
    "    cursor.executemany(sql, resultset)\n",
    "    db_conn.commit()\n",
    "except Exception as e:\n",
    "        print (\"Error while connecting to MySQL using Connection pool \", e)\n",
    "finally:\n",
    "    if(db_conn.is_connected()):\n",
    "        cursor.close()\n",
    "        db_conn.close()\n",
    "        print(\"MySQL connection is closed\")"
   ]
  },
  {
   "cell_type": "code",
   "execution_count": null,
   "metadata": {},
   "outputs": [],
   "source": [
    "#data delete query\n",
    "# DELETE FROM raw_data WHERE id IN(\n",
    "# SELECT id FROM (\n",
    "# SELECT raw_data.id FROM raw_data,raw_data_test_1 WHERE \n",
    "# (raw_data.master_id = raw_data_test_1.master_id AND \n",
    "# raw_data.indicator_id = raw_data_test_1.indicator_id AND \n",
    "# raw_data.ts_date = raw_data_test_1.ts_date)) \n",
    "# AS f)\n",
    "# ;"
   ]
  },
  {
   "cell_type": "code",
   "execution_count": null,
   "metadata": {},
   "outputs": [],
   "source": [
    "# \"INSERT INTO `raw_data` (`id`, `master_id`, `indicator_id`, `value_data`, `json_data`, `data_type`, `ts_date`, `ts_hour`, `job_id`, `batch_id`, `timestamp`) VALUES (NULL, %s, %s, %s, %s, %s, %s, %s, %s, %s, NOW());\""
   ]
  }
 ],
 "metadata": {
  "interpreter": {
   "hash": "c40bc86b65c221928a8dcb60bcd533d914928a478170fa7541d6a17a6588b245"
  },
  "kernelspec": {
   "display_name": "Python 3.9.5 64-bit",
   "language": "python",
   "name": "python3"
  },
  "language_info": {
   "codemirror_mode": {
    "name": "ipython",
    "version": 3
   },
   "file_extension": ".py",
   "mimetype": "text/x-python",
   "name": "python",
   "nbconvert_exporter": "python",
   "pygments_lexer": "ipython3",
   "version": "3.9.7"
  },
  "orig_nbformat": 4
 },
 "nbformat": 4,
 "nbformat_minor": 2
}
