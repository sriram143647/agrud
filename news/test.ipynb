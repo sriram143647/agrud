{
 "cells": [
  {
   "cell_type": "code",
   "execution_count": 1,
   "metadata": {},
   "outputs": [],
   "source": [
    "import mysql.connector\n",
    "import pandas as pd\n",
    "import concurrent.futures\n",
    "files = []"
   ]
  },
  {
   "cell_type": "code",
   "execution_count": 2,
   "metadata": {},
   "outputs": [],
   "source": [
    "def get_data():\n",
    "    df = pd.read_excel('mtwire.xlsx')\n",
    "    df = df[df['file_name'].str.startswith('G')]\n",
    "    columns = ['file_name','revision_no','title','body','publish_date','date_string','images','news_type','master_id','job_id']\n",
    "    df = df[columns]\n",
    "    df['file_name'] = df['file_name'].apply(lambda x: x.replace('_0','').replace('_1','') if type(x)== str else x)\n",
    "    return df"
   ]
  },
  {
   "cell_type": "code",
   "execution_count": 3,
   "metadata": {},
   "outputs": [],
   "source": [
    "def get_files_list(df,f1_name,rev1_no):\n",
    "    for d2 in df.iterrows():\n",
    "        f2_name = d2[1][0]\n",
    "        rev2_no = d2[1][1]\n",
    "        if f1_name == f2_name and rev1_no != rev2_no:\n",
    "            files.append(f2_name)\n",
    "            print(f2_name)"
   ]
  },
  {
   "cell_type": "code",
   "execution_count": 4,
   "metadata": {},
   "outputs": [],
   "source": [
    "def start():\n",
    "    df = get_data()\n",
    "    with concurrent.futures.ThreadPoolExecutor(max_workers=30) as link_executor:\n",
    "        [link_executor.submit(get_files_list,df,d1[1][0],d1[1][1]) for d1 in df.iterrows()]"
   ]
  },
  {
   "cell_type": "code",
   "execution_count": 5,
   "metadata": {},
   "outputs": [
    {
     "name": "stdout",
     "output_type": "stream",
     "text": [
      "G2078818\n",
      "G2056867\n",
      "G2065952\n",
      "G2076449\n",
      "G2058704\n",
      "G2065769\n",
      "G2056771\n"
     ]
    }
   ],
   "source": [
    "start()"
   ]
  },
  {
   "cell_type": "code",
   "execution_count": 10,
   "metadata": {},
   "outputs": [
    {
     "data": {
      "text/html": [
       "<div>\n",
       "<style scoped>\n",
       "    .dataframe tbody tr th:only-of-type {\n",
       "        vertical-align: middle;\n",
       "    }\n",
       "\n",
       "    .dataframe tbody tr th {\n",
       "        vertical-align: top;\n",
       "    }\n",
       "\n",
       "    .dataframe thead th {\n",
       "        text-align: right;\n",
       "    }\n",
       "</style>\n",
       "<table border=\"1\" class=\"dataframe\">\n",
       "  <thead>\n",
       "    <tr style=\"text-align: right;\">\n",
       "      <th></th>\n",
       "      <th>file_name</th>\n",
       "      <th>revision_no</th>\n",
       "      <th>title</th>\n",
       "      <th>body</th>\n",
       "      <th>publish_date</th>\n",
       "      <th>date_string</th>\n",
       "      <th>images</th>\n",
       "      <th>news_type</th>\n",
       "      <th>master_id</th>\n",
       "      <th>job_id</th>\n",
       "    </tr>\n",
       "  </thead>\n",
       "  <tbody>\n",
       "    <tr>\n",
       "      <th>34</th>\n",
       "      <td>G2078818</td>\n",
       "      <td>1</td>\n",
       "      <td>Koninklijke Vopak's Board Nominates New CFO, COO</td>\n",
       "      <td>Koninklijke Vopak (VPK.AS) said Friday that it...</td>\n",
       "      <td>NaN</td>\n",
       "      <td>2021-12-10 01:18:14</td>\n",
       "      <td>NaN</td>\n",
       "      <td>20</td>\n",
       "      <td>79729</td>\n",
       "      <td>2</td>\n",
       "    </tr>\n",
       "    <tr>\n",
       "      <th>81</th>\n",
       "      <td>G2056867</td>\n",
       "      <td>0</td>\n",
       "      <td>US Ends Enforcement Controls Against UBS Follo...</td>\n",
       "      <td>The US Federal Reserve Board said Oct. 1 it re...</td>\n",
       "      <td>NaN</td>\n",
       "      <td>2021-10-03 23:43:12</td>\n",
       "      <td>NaN</td>\n",
       "      <td>20</td>\n",
       "      <td>79513</td>\n",
       "      <td>2</td>\n",
       "    </tr>\n",
       "    <tr>\n",
       "      <th>168</th>\n",
       "      <td>G2065952</td>\n",
       "      <td>0</td>\n",
       "      <td>Activist Investor Cevian Capital Secures Secon...</td>\n",
       "      <td>Cevian Capital became Pearson's (PSON.L) secon...</td>\n",
       "      <td>NaN</td>\n",
       "      <td>2021-11-01 01:16:05</td>\n",
       "      <td>NaN</td>\n",
       "      <td>20</td>\n",
       "      <td>79795</td>\n",
       "      <td>2</td>\n",
       "    </tr>\n",
       "    <tr>\n",
       "      <th>63192</th>\n",
       "      <td>G2065952</td>\n",
       "      <td>1</td>\n",
       "      <td>Activist Investor Cevian Capital Secures Secon...</td>\n",
       "      <td>Cevian Capital became Pearson's (PSON.L) secon...</td>\n",
       "      <td>NaN</td>\n",
       "      <td>2021-11-01 01:16:15</td>\n",
       "      <td>NaN</td>\n",
       "      <td>20</td>\n",
       "      <td>79795</td>\n",
       "      <td>2</td>\n",
       "    </tr>\n",
       "    <tr>\n",
       "      <th>70489</th>\n",
       "      <td>G2078818</td>\n",
       "      <td>0</td>\n",
       "      <td>Koninklijke Vopak's Board Nominates New CFO, COO</td>\n",
       "      <td>Koninklijke Vopak (VPK.AS) said Friday that it...</td>\n",
       "      <td>NaN</td>\n",
       "      <td>2021-12-10 01:18:01</td>\n",
       "      <td>NaN</td>\n",
       "      <td>20</td>\n",
       "      <td>79729</td>\n",
       "      <td>2</td>\n",
       "    </tr>\n",
       "    <tr>\n",
       "      <th>79323</th>\n",
       "      <td>G2056867</td>\n",
       "      <td>1</td>\n",
       "      <td>US Ends Enforcement Action Against UBS Followi...</td>\n",
       "      <td>The US Federal Reserve Board said Oct. 1 it re...</td>\n",
       "      <td>NaN</td>\n",
       "      <td>2021-10-03 23:44:20</td>\n",
       "      <td>NaN</td>\n",
       "      <td>20</td>\n",
       "      <td>79513</td>\n",
       "      <td>2</td>\n",
       "    </tr>\n",
       "  </tbody>\n",
       "</table>\n",
       "</div>"
      ],
      "text/plain": [
       "      file_name  revision_no  \\\n",
       "34     G2078818            1   \n",
       "81     G2056867            0   \n",
       "168    G2065952            0   \n",
       "63192  G2065952            1   \n",
       "70489  G2078818            0   \n",
       "79323  G2056867            1   \n",
       "\n",
       "                                                   title  \\\n",
       "34      Koninklijke Vopak's Board Nominates New CFO, COO   \n",
       "81     US Ends Enforcement Controls Against UBS Follo...   \n",
       "168    Activist Investor Cevian Capital Secures Secon...   \n",
       "63192  Activist Investor Cevian Capital Secures Secon...   \n",
       "70489   Koninklijke Vopak's Board Nominates New CFO, COO   \n",
       "79323  US Ends Enforcement Action Against UBS Followi...   \n",
       "\n",
       "                                                    body  publish_date  \\\n",
       "34     Koninklijke Vopak (VPK.AS) said Friday that it...           NaN   \n",
       "81     The US Federal Reserve Board said Oct. 1 it re...           NaN   \n",
       "168    Cevian Capital became Pearson's (PSON.L) secon...           NaN   \n",
       "63192  Cevian Capital became Pearson's (PSON.L) secon...           NaN   \n",
       "70489  Koninklijke Vopak (VPK.AS) said Friday that it...           NaN   \n",
       "79323  The US Federal Reserve Board said Oct. 1 it re...           NaN   \n",
       "\n",
       "              date_string  images  news_type  master_id  job_id  \n",
       "34    2021-12-10 01:18:14     NaN         20      79729       2  \n",
       "81    2021-10-03 23:43:12     NaN         20      79513       2  \n",
       "168   2021-11-01 01:16:05     NaN         20      79795       2  \n",
       "63192 2021-11-01 01:16:15     NaN         20      79795       2  \n",
       "70489 2021-12-10 01:18:01     NaN         20      79729       2  \n",
       "79323 2021-10-03 23:44:20     NaN         20      79513       2  "
      ]
     },
     "execution_count": 10,
     "metadata": {},
     "output_type": "execute_result"
    }
   ],
   "source": [
    "# df[df['file_name'].isin(files)]"
   ]
  }
 ],
 "metadata": {
  "interpreter": {
   "hash": "c40bc86b65c221928a8dcb60bcd533d914928a478170fa7541d6a17a6588b245"
  },
  "kernelspec": {
   "display_name": "Python 3.9.7 64-bit",
   "language": "python",
   "name": "python3"
  },
  "language_info": {
   "codemirror_mode": {
    "name": "ipython",
    "version": 3
   },
   "file_extension": ".py",
   "mimetype": "text/x-python",
   "name": "python",
   "nbconvert_exporter": "python",
   "pygments_lexer": "ipython3",
   "version": "3.9.7"
  },
  "orig_nbformat": 4
 },
 "nbformat": 4,
 "nbformat_minor": 2
}
