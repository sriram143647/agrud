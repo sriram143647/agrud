{
 "cells": [
  {
   "cell_type": "code",
   "execution_count": 4,
   "metadata": {},
   "outputs": [],
   "source": [
    "import mysql.connector\n",
    "import pandas as pd"
   ]
  },
  {
   "cell_type": "code",
   "execution_count": 6,
   "metadata": {},
   "outputs": [
    {
     "name": "stdout",
     "output_type": "stream",
     "text": [
      "connection is closed\n"
     ]
    }
   ],
   "source": [
    "try:\n",
    "    db_conn = mysql.connector.connect(host = \"34.69.145.125\", user = \"rentechuser\", password = \"Agdj8ekee9u04IIid\", database = \"rentech_db\")\n",
    "    query = \"SELECT * FROM `mtnewswire_raw_data_test`;\"\n",
    "    sql_query = pd.read_sql(query, db_conn)\n",
    "    df = pd.DataFrame(sql_query, columns = ['file_name','revision_no','title','body','publish_date','date_string','images','news_type','master_id','job_id'])\n",
    "except Exception as e:\n",
    "    print(f'Mysql Error',e)\n",
    "finally:\n",
    "    if(db_conn.is_connected()):\n",
    "        db_conn.close()\n",
    "        print('connection is closed')\n",
    "df = df[df['file_name'].str.startswith('G')]"
   ]
  },
  {
   "cell_type": "code",
   "execution_count": 7,
   "metadata": {},
   "outputs": [],
   "source": [
    "columns = ['file_name','revision_no','title','body','publish_date','date_string','images','news_type','master_id','job_id']\n",
    "temp_df = df[columns]\n",
    "temp_df['file_name'] = temp_df['file_name'].apply(lambda x: x.replace('_0','').replace('_1','') if type(x)== str else x)"
   ]
  },
  {
   "cell_type": "code",
   "execution_count": 8,
   "metadata": {},
   "outputs": [],
   "source": [
    "df2 = temp_df[['file_name','revision_no']].drop_duplicates()\n",
    "map_dict = df2['file_name'].value_counts().to_dict()\n",
    "df2['file_count'] = df2['file_name'].map(map_dict)"
   ]
  },
  {
   "cell_type": "code",
   "execution_count": 9,
   "metadata": {},
   "outputs": [],
   "source": [
    "file_names = df2[df2['file_count'] > 1]['file_name']\n",
    "file_names = file_names[0:50]"
   ]
  },
  {
   "cell_type": "code",
   "execution_count": 14,
   "metadata": {},
   "outputs": [
    {
     "data": {
      "text/plain": [
       "34       G2078818\n",
       "81       G2056867\n",
       "168      G2065952\n",
       "371      G2076449\n",
       "506      G2058704\n",
       "552      G2065769\n",
       "738      G2056771\n",
       "1777     G2058179\n",
       "2429     G2069317\n",
       "2891     G2058693\n",
       "2998     G2078310\n",
       "3128     G2078268\n",
       "3251     G2076010\n",
       "3783     G2073055\n",
       "4518     G2067581\n",
       "4601     G2064593\n",
       "5581     G2068852\n",
       "5594     G2067143\n",
       "5851     G2065430\n",
       "5873     G2069286\n",
       "6680     G2082180\n",
       "7204     G2058860\n",
       "7340     G2062987\n",
       "8121     G2074500\n",
       "8226     G2066047\n",
       "8395     G2081325\n",
       "8894     G2061020\n",
       "9123     G2071253\n",
       "9145     G2081112\n",
       "9457     G2070506\n",
       "9751     G2071462\n",
       "9826     G2081120\n",
       "10164    G2079553\n",
       "10272    G2062086\n",
       "10453    G2079387\n",
       "10608    G2064922\n",
       "10752    G2056924\n",
       "10867    G2076710\n",
       "11026    G2071985\n",
       "11241    G2060278\n",
       "11339    G2062185\n",
       "11453    G2074229\n",
       "11934    G2060779\n",
       "12409    G2065812\n",
       "12499    G2082406\n",
       "12631    G2056819\n",
       "13159    G2071996\n",
       "13290    G2071750\n",
       "13781    G2062051\n",
       "14026    G2060913\n",
       "Name: file_name, dtype: object"
      ]
     },
     "execution_count": 14,
     "metadata": {},
     "output_type": "execute_result"
    }
   ],
   "source": [
    "file_names"
   ]
  },
  {
   "cell_type": "code",
   "execution_count": 10,
   "metadata": {},
   "outputs": [
    {
     "name": "stdout",
     "output_type": "stream",
     "text": [
      "connection is closed\n"
     ]
    }
   ],
   "source": [
    "try:\n",
    "    db_conn = mysql.connector.connect(host = \"34.69.145.125\", user = \"rentechuser\", password = \"Agdj8ekee9u04IIid\", database = \"rentech_db\")\n",
    "    cursor = db_conn.cursor()\n",
    "    for file in file_names[3:]:\n",
    "        sql = f\"DELETE FROM `mtnewswire_raw_data` WHERE `file_name` LIKE '%{file}%';\"\n",
    "        cursor.execute(sql)\n",
    "    db_conn.commit()\n",
    "    # print(f'{cursor.rowcount} records are inserted successfully')\n",
    "except Exception as e:\n",
    "    print(f'Mysql Error',e)\n",
    "finally:\n",
    "    if(db_conn.is_connected()):\n",
    "        cursor.close()\n",
    "        db_conn.close()\n",
    "        print('connection is closed')"
   ]
  },
  {
   "cell_type": "code",
   "execution_count": 11,
   "metadata": {},
   "outputs": [
    {
     "name": "stderr",
     "output_type": "stream",
     "text": [
      "C:\\Users\\011\\AppData\\Local\\Temp/ipykernel_11696/240811699.py:2: SettingWithCopyWarning: \n",
      "A value is trying to be set on a copy of a slice from a DataFrame.\n",
      "Try using .loc[row_indexer,col_indexer] = value instead\n",
      "\n",
      "See the caveats in the documentation: https://pandas.pydata.org/pandas-docs/stable/user_guide/indexing.html#returning-a-view-versus-a-copy\n",
      "  df3['file_name_rev'] = df3['file_name']+'_'+df3['revision_no'].astype(str)\n"
     ]
    }
   ],
   "source": [
    "df3 = temp_df[temp_df['file_name'].isin(file_names)]\n",
    "df3['file_name_rev'] = df3['file_name']+'_'+df3['revision_no'].astype(str)"
   ]
  },
  {
   "cell_type": "code",
   "execution_count": 12,
   "metadata": {},
   "outputs": [],
   "source": [
    "resultset = []\n",
    "for i, row in df3.iterrows():\n",
    "    resultset.append([row[10],row[1],row[2],row[3],row[4],row[5],row[6],row[8],row[9]])"
   ]
  },
  {
   "cell_type": "code",
   "execution_count": 13,
   "metadata": {},
   "outputs": [
    {
     "name": "stdout",
     "output_type": "stream",
     "text": [
      "106 records are inserted successfully\n",
      "connection is closed\n"
     ]
    }
   ],
   "source": [
    "try:\n",
    "    db_conn = mysql.connector.connect(host = \"34.69.145.125\", user = \"rentechuser\", password = \"Agdj8ekee9u04IIid\", database = \"rentech_db\")\n",
    "    cursor = db_conn.cursor()\n",
    "    sql = \"INSERT IGNORE INTO `mtnewswire_raw_data` VALUES(NULL, %s, %s, %s, %s, %s, %s, %s, 100, %s, %s, CURRENT_TIMESTAMP());\"\n",
    "    cursor.executemany(sql, resultset)\n",
    "    db_conn.commit()\n",
    "    print(f'{cursor.rowcount} records are inserted successfully')\n",
    "except Exception as e:\n",
    "    print(f'Mysql Error',e)\n",
    "finally:\n",
    "    if(db_conn.is_connected()):\n",
    "        cursor.close()\n",
    "        db_conn.close()\n",
    "        print('connection is closed')"
   ]
  },
  {
   "cell_type": "code",
   "execution_count": null,
   "metadata": {},
   "outputs": [],
   "source": []
  }
 ],
 "metadata": {
  "interpreter": {
   "hash": "c40bc86b65c221928a8dcb60bcd533d914928a478170fa7541d6a17a6588b245"
  },
  "kernelspec": {
   "display_name": "Python 3.9.5 64-bit",
   "language": "python",
   "name": "python3"
  },
  "language_info": {
   "codemirror_mode": {
    "name": "ipython",
    "version": 3
   },
   "file_extension": ".py",
   "mimetype": "text/x-python",
   "name": "python",
   "nbconvert_exporter": "python",
   "pygments_lexer": "ipython3",
   "version": "3.9.7"
  },
  "orig_nbformat": 4
 },
 "nbformat": 4,
 "nbformat_minor": 2
}
