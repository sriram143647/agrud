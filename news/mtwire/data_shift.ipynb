{
 "cells": [
  {
   "cell_type": "code",
   "execution_count": 1,
   "metadata": {},
   "outputs": [],
   "source": [
    "import mysql.connector"
   ]
  },
  {
   "cell_type": "code",
   "execution_count": 7,
   "metadata": {},
   "outputs": [
    {
     "name": "stdout",
     "output_type": "stream",
     "text": [
      "MySQL connection is closed\n"
     ]
    },
    {
     "data": {
      "text/plain": [
       "50045"
      ]
     },
     "execution_count": 7,
     "metadata": {},
     "output_type": "execute_result"
    }
   ],
   "source": [
    "try:\n",
    "        db_conn = mysql.connector.connect(host='34.69.145.125',user='rentechuser',database = 'rentech_db',password='Agdj8ekee9u04IIid',auth_plugin='mysql_native_password')\n",
    "        cursor = db_conn.cursor()\n",
    "        sql = \"\"\"SELECT `master_id`, `indicator_id`, `value_data`, `json_data`, `data_type`, `ts_date` FROM `raw_data_test_1` WHERE `job_id` = '9' AND `ts_date` = '2020-01-01';\"\"\"\n",
    "        cursor.execute(sql)\n",
    "        result = cursor.fetchall()\n",
    "except Exception as e:\n",
    "        print (\"Mysql Error:\",e)\n",
    "finally:\n",
    "        if(db_conn.is_connected()):\n",
    "                cursor.close()\n",
    "                db_conn.close()\n",
    "                print(\"MySQL connection is closed\")\n",
    "len(result)"
   ]
  },
  {
   "cell_type": "code",
   "execution_count": 8,
   "metadata": {},
   "outputs": [
    {
     "name": "stdout",
     "output_type": "stream",
     "text": [
      "48893 rows are inserted into db\n",
      "MySQL connection isZ closed\n"
     ]
    }
   ],
   "source": [
    "try:\n",
    "        db_conn = mysql.connector.connect(host='54.237.79.6',user='rentech_user',database = 'rentech_db',password='N)baegbgqeiheqfi3e9314jnEkekjb',auth_plugin='mysql_native_password')\n",
    "        cursor = db_conn.cursor()\n",
    "        sql = \"\"\"INSERT INTO `raw_data` (`id`, `master_id`, `indicator_id`, `value_data`, `json_data`, `data_type`, `ts_date`, `ts_hour`, `job_id`, `timestamp`) VALUES \n",
    "        (NULL, %s, %s, %s, %s, %s, %s, '0:0:0', 9, NOW()) ON DUPLICATE KEY UPDATE  \n",
    "        master_id = VALUES(master_id), indicator_id = VALUES(indicator_id), value_data = VALUES(value_data), json_data = VALUES(json_data),data_type = VALUES(data_type), ts_date = VALUES(ts_date) ,ts_hour = VALUES(ts_hour),\n",
    "        job_id = VALUES(job_id), batch_id = VALUES(batch_id);\"\"\"\n",
    "        cursor.executemany(sql, result)\n",
    "        print (f\"{cursor.rowcount} rows are inserted into db\")\n",
    "        db_conn.commit()\n",
    "except Exception as e:\n",
    "        print (\"Mysql Error:\",e)\n",
    "finally:\n",
    "        if(db_conn.is_connected()):\n",
    "                cursor.close()\n",
    "                db_conn.close()\n",
    "                print(\"MySQL connection isZ closed\")"
   ]
  },
  {
   "cell_type": "code",
   "execution_count": 6,
   "metadata": {},
   "outputs": [
    {
     "data": {
      "text/plain": [
       "11"
      ]
     },
     "execution_count": 6,
     "metadata": {},
     "output_type": "execute_result"
    }
   ],
   "source": [
    "len(result[0])"
   ]
  },
  {
   "cell_type": "code",
   "execution_count": null,
   "metadata": {},
   "outputs": [],
   "source": []
  }
 ],
 "metadata": {
  "interpreter": {
   "hash": "c40bc86b65c221928a8dcb60bcd533d914928a478170fa7541d6a17a6588b245"
  },
  "kernelspec": {
   "display_name": "Python 3.9.7 64-bit",
   "language": "python",
   "name": "python3"
  },
  "language_info": {
   "codemirror_mode": {
    "name": "ipython",
    "version": 3
   },
   "file_extension": ".py",
   "mimetype": "text/x-python",
   "name": "python",
   "nbconvert_exporter": "python",
   "pygments_lexer": "ipython3",
   "version": "3.9.7"
  },
  "orig_nbformat": 4
 },
 "nbformat": 4,
 "nbformat_minor": 2
}
