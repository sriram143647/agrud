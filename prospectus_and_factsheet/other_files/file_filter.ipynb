{
 "cells": [
  {
   "cell_type": "code",
   "execution_count": null,
   "metadata": {},
   "outputs": [],
   "source": [
    "import pandas as pd\n",
    "import os"
   ]
  },
  {
   "cell_type": "code",
   "execution_count": null,
   "metadata": {},
   "outputs": [],
   "source": [
    "df = pd.read_csv('scraped_data_links.csv')\n",
    "ignore_list = [\n",
    "    'IE00043JTBZ6', 'IE000G1ER031', 'GB0000796242', 'IE00B7F9FM77', 'IE000IQEE9W5', 'IE000J9WOV28', 'IE000RC8IBP7', 'IE000YLJKBQ9', 'IE000Z0DPSS4', \n",
    "    'IE00B9NNHV84', 'IE00BGR6TZ09', 'IE00BKPHWW11', 'IE00BKPHWX28', 'IE00BLSP4015', 'IE00BLSP4122', 'IE00BMG7P694', 'IE00BMG7P819', 'IE00BMG7P926', \n",
    "    'IE00BN6Q8645', 'IE00BWDBJ409', 'LU0057025933', 'LU0081336892', 'LU0110060430', 'LU0156897901', 'LU0157308031', 'LU0232524495', 'LU2375672263', \n",
    "    'LU1979441026', 'LU1883994011', 'LU1883993989', 'LU1861127766', 'LU1509826696', 'LU1345481854', 'LU1235258685', 'LU1084809042', 'LU1069345178', \n",
    "    'LU1037948970', 'LU1035781084', 'LU0981926206', 'LU0965509440', 'LU0965509283', 'LU0965509101', 'LU0965509010', 'LU0965508988', 'LU0965506933', \n",
    "    'LU0965506859', 'LU0905234570', 'LU0905234497', 'LU0805983789', 'LU0805981734', 'LU0800111485', 'LU0787776995', 'LU0736559351', 'LU0736559278', \n",
    "    'LU0736558973', 'LU0683600729', 'LU0683595895', 'LU0683595465', 'LU0592507528', 'LU0592507361', 'LU0592505829', 'LU0592505407', 'LU0511406216', \n",
    "    'LU0511405911', 'LU0449515922', 'LU0443062806', 'LU0417103578', 'LU0417103495', 'LU0417103065', 'LU0417102927', 'LU0289962507', 'LU0289961442', \n",
    "    'LU0289960550', 'LU0289958901', 'LU0289941410', 'LU0289924671', 'LU0289923608', 'LU0289739699', 'LU0289739343', 'LU0999521056', 'LU2056362770', \n",
    "    'LU1573120497', 'LU0288029860', 'LU0288029514', 'LU1573120224', 'LU0258954444', 'LU0689626256', 'LU0689625878', 'LU0683596430', 'LU0633140727', \n",
    "    'LU1127388517', 'LU1127388434', 'LU1127387386', 'LU1563521951', 'LU0987487419', 'LU0539802446', 'LU0258954014', 'LU0772969993', 'LU0314587907', \n",
    "    'LU0539801802', 'LU0704905362', 'LU0905233846', 'LU0328307730'\n",
    "    ]"
   ]
  },
  {
   "cell_type": "code",
   "execution_count": null,
   "metadata": {},
   "outputs": [],
   "source": [
    "new_df = df[~df['isin name'].isin(ignore_list)]\n",
    "remove_df = df[df['isin name'].isin(ignore_list)]"
   ]
  },
  {
   "cell_type": "code",
   "execution_count": null,
   "metadata": {},
   "outputs": [],
   "source": [
    "pdf_files = r'D:\\\\sriram\\\\agrud\\\\prospectus_and_factsheet\\\\factsheet\\\\'\n",
    "date2 = '20220426'\n",
    "for i,row in remove_df.iterrows():\n",
    "        isin = row[3]\n",
    "        master_id = row[0]\n",
    "        file_name = f'{master_id}_{date2}'\n",
    "        file = pdf_files+file_name+'.pdf'\n",
    "        os.remove(file)"
   ]
  },
  {
   "cell_type": "code",
   "execution_count": null,
   "metadata": {},
   "outputs": [],
   "source": [
    "new_df.to_csv('scraped_data_links.csv',index=False,header=['master id','isin name','factsheet link','prospectus link'])"
   ]
  },
  {
   "cell_type": "code",
   "execution_count": null,
   "metadata": {},
   "outputs": [],
   "source": [
    "df[df['isin name'].isin(ignore_list)][['master id','isin name']].style"
   ]
  }
 ],
 "metadata": {
  "interpreter": {
   "hash": "c40bc86b65c221928a8dcb60bcd533d914928a478170fa7541d6a17a6588b245"
  },
  "kernelspec": {
   "display_name": "Python 3.9.7 64-bit",
   "language": "python",
   "name": "python3"
  },
  "language_info": {
   "codemirror_mode": {
    "name": "ipython",
    "version": 3
   },
   "file_extension": ".py",
   "mimetype": "text/x-python",
   "name": "python",
   "nbconvert_exporter": "python",
   "pygments_lexer": "ipython3",
   "version": "3.9.7"
  },
  "orig_nbformat": 4
 },
 "nbformat": 4,
 "nbformat_minor": 2
}
