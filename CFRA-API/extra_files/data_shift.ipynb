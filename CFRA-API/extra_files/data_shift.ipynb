{
 "cells": [
  {
   "cell_type": "code",
   "execution_count": 1,
   "metadata": {},
   "outputs": [],
   "source": [
    "import mysql.connector"
   ]
  },
  {
   "cell_type": "code",
   "execution_count": 11,
   "metadata": {},
   "outputs": [
    {
     "name": "stdout",
     "output_type": "stream",
     "text": [
      "Mysql Connection is closed\n"
     ]
    }
   ],
   "source": [
    "try:\n",
    "    db_conn = mysql.connector.connect(host='54.237.79.6',database='rentech_db',user='rentech_user',password='N)baegbgqeiheqfi3e9314jnEkekjb',auth_plugin='mysql_native_password')\n",
    "    cursor = db_conn.cursor()\n",
    "    sql = \"SELECT `master_id`, `indicator_id`, `value_data`, `json_data`, `data_type`, `ts_date`, `ts_hour`, `job_id`, `batch_id` FROM  `raw_data_test_1`;\"\n",
    "    cursor.execute(sql)\n",
    "    resultset = cursor.fetchall()\n",
    "    db_conn.commit()\n",
    "except Exception as e:\n",
    "    print(f'Mysql Error: ',e)\n",
    "finally:\n",
    "    if(db_conn.is_connected()):\n",
    "        cursor.close()\n",
    "        db_conn.close()\n",
    "        print('Mysql Connection is closed')"
   ]
  },
  {
   "cell_type": "code",
   "execution_count": 13,
   "metadata": {},
   "outputs": [
    {
     "name": "stdout",
     "output_type": "stream",
     "text": [
      "MySQL connection is closed\n"
     ]
    }
   ],
   "source": [
    "try:\n",
    "    db_conn = mysql.connector.connect(host='54.237.79.6',database='rentech_db',user='rentech_user',password='N)baegbgqeiheqfi3e9314jnEkekjb',auth_plugin='mysql_native_password')\n",
    "    cursor = db_conn.cursor()\n",
    "    sql = \"\"\"INSERT INTO `raw_data` (`master_id`, `indicator_id`, `value_data`, `json_data`, `data_type`, `ts_date`, `ts_hour`, `job_id`, `batch_id`)\n",
    "    VALUES (%s, %s, %s, %s, %s, %s, %s, %s, %s) ON DUPLICATE KEY UPDATE \n",
    "    master_id = VALUES(master_id), indicator_id = VALUES(indicator_id), value_data = VALUES(value_data), json_data = VALUES(json_data),\n",
    "    data_type = VALUES(data_type), ts_date = VALUES(ts_date) ,ts_hour = VALUES(ts_hour), job_id = VALUES(job_id), batch_id = VALUES(batch_id);\"\"\"\n",
    "    cursor.executemany(sql, resultset)\n",
    "    db_conn.commit()\n",
    "except Exception as e:\n",
    "        print (\"Mysql Error: \", e)\n",
    "finally:\n",
    "    if(db_conn.is_connected()):\n",
    "        cursor.close()\n",
    "        db_conn.close()\n",
    "        print(\"MySQL connection is closed\")"
   ]
  }
 ],
 "metadata": {
  "interpreter": {
   "hash": "c40bc86b65c221928a8dcb60bcd533d914928a478170fa7541d6a17a6588b245"
  },
  "kernelspec": {
   "display_name": "Python 3.9.5 64-bit",
   "language": "python",
   "name": "python3"
  },
  "language_info": {
   "codemirror_mode": {
    "name": "ipython",
    "version": 3
   },
   "file_extension": ".py",
   "mimetype": "text/x-python",
   "name": "python",
   "nbconvert_exporter": "python",
   "pygments_lexer": "ipython3",
   "version": "3.9.7"
  },
  "orig_nbformat": 4
 },
 "nbformat": 4,
 "nbformat_minor": 2
}
