{
 "cells": [
  {
   "cell_type": "code",
   "execution_count": 1,
   "metadata": {},
   "outputs": [],
   "source": [
    "import pandas as pd\n",
    "import numpy as np\n",
    "import json\n",
    "import mysql.connector"
   ]
  },
  {
   "cell_type": "code",
   "execution_count": 2,
   "metadata": {},
   "outputs": [],
   "source": [
    "df = pd.read_csv('api3_full_data.csv',encoding='utf-8')\n",
    "df = df.rename(columns={\"exchange code\" : \"exchange_code\"}) \n",
    "map = pd.read_excel(r'D:\\sriram\\agrud\\cfra\\CFRA-API\\ticker_to_masterid_map.xlsx',engine='openpyxl')\n",
    "map = map.rename(columns={\"source_exchange\" : \"exchange_code\"}) \n",
    "map = map.rename(columns={\"source_symbol\" : \"ticker\"}) \n",
    "with open(r'D:\\sriram\\agrud\\cfra\\CFRA-API\\api3\\api3_col_to_indicator.json', 'r', encoding=\"utf-8\") as f:\n",
    "    colToIndicator = json.load(f)\n",
    "df[['price_to_oper_eps_2022E', 'price_to_oper_eps_2021E']] = df[['price_to_oper_eps_2022E', 'price_to_oper_eps_2021E']].replace(\"NM\", np.nan)"
   ]
  },
  {
   "cell_type": "code",
   "execution_count": 3,
   "metadata": {},
   "outputs": [],
   "source": [
    "comb_data = pd.merge(df,map,on=['ticker','exchange_code'],how='left')"
   ]
  },
  {
   "cell_type": "code",
   "execution_count": 4,
   "metadata": {},
   "outputs": [],
   "source": [
    "pub_dt = [\n",
    "        \"3_yr_proj_eps_cagr_prcntg\",\"analyst\",\"business_summary\",\"fair_value\",\"income_estimates\",\"insider_activity\",\"pdf_url\",\"research_notes\",\n",
    "        \"price_at_publication\",\"publication_date\",\"quality_risk_assessment\",\"reporting_frequency\",\"revenue_estimates\",\"sub_industry_outlook\",\n",
    "        \"summary\",\"trading price\",\"technical_evaluation\"\n",
    "    ]"
   ]
  },
  {
   "cell_type": "code",
   "execution_count": 5,
   "metadata": {},
   "outputs": [],
   "source": [
    "result = []\n",
    "for i, row in comb_data.iterrows():\n",
    "    row2 = row.to_dict()\n",
    "    master_id = row2['master_id']\n",
    "    for k, v in row2.items():\n",
    "        if pd.isna(v):\n",
    "            continue\n",
    "        if k not in colToIndicator:\n",
    "            continue\n",
    "        if k in pub_dt: \n",
    "            indicatorId = colToIndicator[k]\n",
    "            ts_date = row2['publication_date'].split('T')[0]\n",
    "            if k in ['income_estimates','revenue_estimates','fair_value']:\n",
    "                json_data = json.dumps([json.loads(v)])\n",
    "                dataType = 1\n",
    "                value_data = 0 \n",
    "                result.append([master_id,indicatorId,value_data,json_data,dataType,ts_date])\n",
    "            elif k in ['3_yr_proj_eps_cagr_prcntg','price_at_publication']: \n",
    "                dataType = 0\n",
    "                value_data = v\n",
    "                json_data = None\n",
    "                result.append([master_id,indicatorId,value_data,json_data,dataType,ts_date])\n",
    "            elif type(v) == str: \n",
    "                json_data = json.dumps({'TEXT':v})\n",
    "                dataType = 3\n",
    "                value_data = 0\n",
    "                result.append([master_id,indicatorId,value_data,json_data,dataType,ts_date])\n",
    "        elif k in ['investment_risk_rationale']:\n",
    "            indicatorId = colToIndicator[k]\n",
    "            if pd.isna(row2['investment_risk_rationale_date']):\n",
    "                continue\n",
    "            ts_date = row2['investment_risk_rationale_date'].split('T')[0]\n",
    "            json_data = json.dumps({'TEXT':v})\n",
    "            dataType = 3\n",
    "            value_data = 0\n",
    "            result.append([master_id,indicatorId,value_data,json_data,dataType,ts_date])\n",
    "        elif k in ['highlights']:\n",
    "            indicatorId = colToIndicator[k]\n",
    "            if pd.isna(row2['highlights_date']):\n",
    "                continue\n",
    "            ts_date = row2['highlights_date'].split('T')[0]\n",
    "            json_data = json.dumps({'TEXT':v})\n",
    "            dataType = 3\n",
    "            value_data = 0\n",
    "            result.append([master_id,indicatorId,value_data,json_data,dataType,ts_date])\n",
    "        elif k in ['oper_eps_2022E','price_to_oper_eps_2022E']:\n",
    "            indicatorId = colToIndicator[k]\n",
    "            ts_date = '2022-12-31'\n",
    "            json_data = None\n",
    "            dataType = 0\n",
    "            value_data = v\n",
    "            result.append([master_id,indicatorId,value_data,json_data,dataType,ts_date])\n",
    "        elif k in ['oper_eps_2023E']:\n",
    "            indicatorId = colToIndicator[k]\n",
    "            ts_date = '2023-12-31'\n",
    "            json_data = None\n",
    "            dataType = 0\n",
    "            value_data = v\n",
    "            result.append([master_id,indicatorId,value_data,json_data,dataType,ts_date])\n",
    "        elif k in ['oper_eps_2021E','price_to_oper_eps_2021E']:\n",
    "            indicatorId = colToIndicator[k]\n",
    "            ts_date = '2021-12-31'\n",
    "            json_data = None\n",
    "            dataType = 0\n",
    "            value_data = v\n",
    "            result.append([master_id,indicatorId,value_data,json_data,dataType,ts_date])\n",
    "        \n",
    "        if float(result[-1][2]) < 0:\n",
    "            result = result[:-1]"
   ]
  },
  {
   "cell_type": "code",
   "execution_count": 6,
   "metadata": {},
   "outputs": [],
   "source": [
    "# import csv\n",
    "# for l in result:\n",
    "#     with open('api3_data_list.csv', mode='a', encoding='utf-8',newline=\"\") as output_file:\n",
    "#         writer = csv.writer(output_file, delimiter=',', quotechar='\"', quoting=csv.QUOTE_ALL)\n",
    "#         writer.writerow(l)"
   ]
  },
  {
   "cell_type": "code",
   "execution_count": 7,
   "metadata": {},
   "outputs": [
    {
     "name": "stdout",
     "output_type": "stream",
     "text": [
      "24943 records affected.\n",
      "MySQL connection is closed\n"
     ]
    }
   ],
   "source": [
    "#server db connection   \n",
    "try:\n",
    "    db_conn = mysql.connector.connect(host='54.237.79.6',database='rentech_db',user='rentech_user',password='N)baegbgqeiheqfi3e9314jnEkekjb',auth_plugin='mysql_native_password')\n",
    "    cursor = db_conn.cursor()\n",
    "    sql = \"\"\"INSERT INTO `raw_data_test_1` (`id`, `master_id`, `indicator_id`, `value_data`, `json_data`, `data_type`, `ts_date`, `ts_hour`, `job_id`, `timestamp`) VALUES \n",
    "    (NULL, %s, %s, %s, %s, %s, %s, '0:0:0', 10, NOW())\n",
    "    ON DUPLICATE KEY UPDATE  master_id = VALUES(master_id), indicator_id = VALUES(indicator_id), value_data = VALUES(value_data),\n",
    "    json_data = VALUES(json_data),data_type = VALUES(data_type), ts_date = VALUES(ts_date) ,ts_hour = VALUES(ts_hour) ,\n",
    "    job_id = VALUES(job_id), batch_id = VALUES(batch_id);\"\"\"\n",
    "    cursor.executemany(sql, result)\n",
    "    print(cursor.rowcount, \"records affected.\")\n",
    "    db_conn.commit()\n",
    "except Exception as e:\n",
    "        print (\"Error while connecting to MySQL using Connection pool \", e)\n",
    "finally:\n",
    "    if(db_conn.is_connected()):\n",
    "        cursor.close()\n",
    "        db_conn.close()\n",
    "        print(\"MySQL connection is closed\")"
   ]
  },
  {
   "cell_type": "code",
   "execution_count": 8,
   "metadata": {},
   "outputs": [
    {
     "name": "stdout",
     "output_type": "stream",
     "text": [
      "24943 records affected.\n",
      "MySQL connection is closed\n"
     ]
    }
   ],
   "source": [
    "#local db connection\n",
    "# try:\n",
    "#     db_conn = mysql.connector.connect(host='127.0.0.1',user='root',database = 'mytestdb',password='root123', port = 3306)\n",
    "#     cursor = db_conn.cursor()\n",
    "#     sql = \"\"\"INSERT INTO `raw_data_test_1` (`id`, `master_id`, `indicator_id`, `value_data`, `json_data`, `data_type`, `ts_date`, `ts_hour`, `job_id`, `timestamp`) VALUES \n",
    "#     (NULL, %s, %s, %s, %s, %s, %s, '0:0:0', 10, NOW()) ON DUPLICATE KEY UPDATE  \n",
    "#     master_id = VALUES(master_id), indicator_id = VALUES(indicator_id), value_data = VALUES(value_data),\n",
    "#     json_data = VALUES(json_data),data_type = VALUES(data_type), ts_date = VALUES(ts_date) ,ts_hour = VALUES(ts_hour) ,\n",
    "#     job_id = VALUES(job_id), batch_id = VALUES(batch_id);\"\"\"\n",
    "#     cursor.executemany(sql, result)\n",
    "#     print(cursor.rowcount, \"records affected.\")\n",
    "#     db_conn.commit()\n",
    "# except Exception as e:\n",
    "#         print (\"MYSQL Error: \", e)\n",
    "# finally:\n",
    "#     if(db_conn.is_connected()):\n",
    "#         cursor.close()\n",
    "#         db_conn.close()\n",
    "#         print(\"MySQL connection is closed\")"
   ]
  },
  {
   "cell_type": "code",
   "execution_count": null,
   "metadata": {},
   "outputs": [],
   "source": []
  }
 ],
 "metadata": {
  "interpreter": {
   "hash": "c40bc86b65c221928a8dcb60bcd533d914928a478170fa7541d6a17a6588b245"
  },
  "kernelspec": {
   "display_name": "Python 3.9.5 64-bit",
   "language": "python",
   "name": "python3"
  },
  "language_info": {
   "codemirror_mode": {
    "name": "ipython",
    "version": 3
   },
   "file_extension": ".py",
   "mimetype": "text/x-python",
   "name": "python",
   "nbconvert_exporter": "python",
   "pygments_lexer": "ipython3",
   "version": "3.9.7"
  },
  "orig_nbformat": 4
 },
 "nbformat": 4,
 "nbformat_minor": 2
}
